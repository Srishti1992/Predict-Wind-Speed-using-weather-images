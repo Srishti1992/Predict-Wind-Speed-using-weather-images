{
  "nbformat": 4,
  "nbformat_minor": 0,
  "metadata": {
    "colab": {
      "name": "Srishti_Assignment_2_DL.ipynb",
      "provenance": []
    },
    "kernelspec": {
      "name": "python3",
      "display_name": "Python 3"
    },
    "accelerator": "GPU"
  },
  "cells": [
    {
      "cell_type": "code",
      "metadata": {
        "id": "qHR6VGhpciX7",
        "colab_type": "code",
        "outputId": "43a99a57-5f02-4b9a-82b4-41082a34fa2e",
        "colab": {
          "base_uri": "https://localhost:8080/",
          "height": 34
        }
      },
      "source": [
        "from google.colab import drive\n",
        "drive.mount('/content/drive')"
      ],
      "execution_count": 17,
      "outputs": [
        {
          "output_type": "stream",
          "text": [
            "Drive already mounted at /content/drive; to attempt to forcibly remount, call drive.mount(\"/content/drive\", force_remount=True).\n"
          ],
          "name": "stdout"
        }
      ]
    },
    {
      "cell_type": "code",
      "metadata": {
        "id": "FeJAC8ZKip-K",
        "colab_type": "code",
        "colab": {}
      },
      "source": [
        "# import general necessary packages\n",
        "import pandas as pd\n",
        "import tensorflow as tf\n",
        "import numpy as np\n",
        "import matplotlib.pyplot as plt\n",
        "import os, cv2\n",
        "# import the necessary packages -- cnn_regression\n",
        "from keras.models import Sequential\n",
        "from keras.layers.convolutional import Conv2D\n",
        "from keras.layers.convolutional import MaxPooling2D\n",
        "from keras.layers.core import Activation\n",
        "from keras.layers.core import Dropout\n",
        "from keras.layers.core import Dense\n",
        "from keras.layers import Flatten\n",
        "from keras.layers import Input\n",
        "from keras.models import Model\n",
        "from keras.optimizers import Adam, RMSprop\n",
        "from numpy.random import seed\n",
        "from tensorflow import set_random_seed\n",
        "from numpy import savez_compressed\n",
        "from keras.callbacks import EarlyStopping"
      ],
      "execution_count": 0,
      "outputs": []
    },
    {
      "cell_type": "markdown",
      "metadata": {
        "id": "4-3NtFQii9mk",
        "colab_type": "text"
      },
      "source": [
        "## Load Data"
      ]
    },
    {
      "cell_type": "code",
      "metadata": {
        "id": "qMlIseF0i2Gp",
        "colab_type": "code",
        "colab": {}
      },
      "source": [
        "# define images data file path\n",
        "path = \"/content/drive/My Drive/Deep Learning Spring 2020/Week 3 DL/Assignment 2/Cropped Image - Weather Project/\"\n",
        "train_dir = path + \"Train/\"\n",
        "val_dir = path + \"Validation/\"\n",
        "test_dir = path + \"Test/\"\n",
        "result = path + \"Model Results/\""
      ],
      "execution_count": 0,
      "outputs": []
    },
    {
      "cell_type": "code",
      "metadata": {
        "id": "bIhdnSYO5GHN",
        "colab_type": "code",
        "colab": {}
      },
      "source": [
        "# load image numpy array from npz file\n",
        "from numpy import load\n",
        "# load dict of arrays\n",
        "train_data = load(path+'train_data.npz')\n",
        "x_train = train_data['arr_0']\n",
        "val_data = load(path+'val_data.npz')\n",
        "x_val = val_data['arr_0']\n",
        "test_data = load(path+'test_data.npz')\n",
        "x_test = test_data['arr_0']"
      ],
      "execution_count": 0,
      "outputs": []
    },
    {
      "cell_type": "code",
      "metadata": {
        "id": "NNgnoAFe5SmK",
        "colab_type": "code",
        "outputId": "4738cc70-d25e-45bb-b20a-6a750fcf2b55",
        "colab": {
          "base_uri": "https://localhost:8080/",
          "height": 204
        }
      },
      "source": [
        "# import weather data\n",
        "weather_data = pd.read_csv(\"/content/drive/My Drive/Deep Learning Spring 2020/Week 3 DL/Assignment 2/Cropped Image - Weather Project/model_ready.csv\")\n",
        "weather_data.head()"
      ],
      "execution_count": 27,
      "outputs": [
        {
          "output_type": "execute_result",
          "data": {
            "text/html": [
              "<div>\n",
              "<style scoped>\n",
              "    .dataframe tbody tr th:only-of-type {\n",
              "        vertical-align: middle;\n",
              "    }\n",
              "\n",
              "    .dataframe tbody tr th {\n",
              "        vertical-align: top;\n",
              "    }\n",
              "\n",
              "    .dataframe thead th {\n",
              "        text-align: right;\n",
              "    }\n",
              "</style>\n",
              "<table border=\"1\" class=\"dataframe\">\n",
              "  <thead>\n",
              "    <tr style=\"text-align: right;\">\n",
              "      <th></th>\n",
              "      <th>valid</th>\n",
              "      <th>tmpf</th>\n",
              "      <th>drct</th>\n",
              "      <th>sknt</th>\n",
              "    </tr>\n",
              "  </thead>\n",
              "  <tbody>\n",
              "    <tr>\n",
              "      <th>0</th>\n",
              "      <td>2016-09-01 00:00:00</td>\n",
              "      <td>75.02</td>\n",
              "      <td>222.500000</td>\n",
              "      <td>5.125000</td>\n",
              "    </tr>\n",
              "    <tr>\n",
              "      <th>1</th>\n",
              "      <td>2016-09-01 01:00:00</td>\n",
              "      <td>73.94</td>\n",
              "      <td>202.857143</td>\n",
              "      <td>4.857143</td>\n",
              "    </tr>\n",
              "    <tr>\n",
              "      <th>2</th>\n",
              "      <td>2016-09-01 02:00:00</td>\n",
              "      <td>73.94</td>\n",
              "      <td>218.181818</td>\n",
              "      <td>4.272727</td>\n",
              "    </tr>\n",
              "    <tr>\n",
              "      <th>3</th>\n",
              "      <td>2016-09-01 03:00:00</td>\n",
              "      <td>73.94</td>\n",
              "      <td>204.444444</td>\n",
              "      <td>4.555556</td>\n",
              "    </tr>\n",
              "    <tr>\n",
              "      <th>4</th>\n",
              "      <td>2016-09-01 04:00:00</td>\n",
              "      <td>73.04</td>\n",
              "      <td>145.000000</td>\n",
              "      <td>2.700000</td>\n",
              "    </tr>\n",
              "  </tbody>\n",
              "</table>\n",
              "</div>"
            ],
            "text/plain": [
              "                 valid   tmpf        drct      sknt\n",
              "0  2016-09-01 00:00:00  75.02  222.500000  5.125000\n",
              "1  2016-09-01 01:00:00  73.94  202.857143  4.857143\n",
              "2  2016-09-01 02:00:00  73.94  218.181818  4.272727\n",
              "3  2016-09-01 03:00:00  73.94  204.444444  4.555556\n",
              "4  2016-09-01 04:00:00  73.04  145.000000  2.700000"
            ]
          },
          "metadata": {
            "tags": []
          },
          "execution_count": 27
        }
      ]
    },
    {
      "cell_type": "code",
      "metadata": {
        "id": "lo32NrDh5rCK",
        "colab_type": "code",
        "outputId": "3e6903a2-19df-4b90-d1e5-1ce32aac6118",
        "colab": {
          "base_uri": "https://localhost:8080/",
          "height": 85
        }
      },
      "source": [
        "# convert valid columnto a timedate\n",
        "weather_data['valid'] =  pd.to_datetime(weather_data['valid'])\n",
        "# set valid column to index\n",
        "weather_data = weather_data.set_index('valid')\n",
        "weather_data.isna().sum()"
      ],
      "execution_count": 28,
      "outputs": [
        {
          "output_type": "execute_result",
          "data": {
            "text/plain": [
              "tmpf    21\n",
              "drct     7\n",
              "sknt     3\n",
              "dtype: int64"
            ]
          },
          "metadata": {
            "tags": []
          },
          "execution_count": 28
        }
      ]
    },
    {
      "cell_type": "code",
      "metadata": {
        "id": "LYlcd9_x6Zs9",
        "colab_type": "code",
        "outputId": "641d9343-9aeb-48e8-bfd5-1528dc4961c1",
        "colab": {
          "base_uri": "https://localhost:8080/",
          "height": 450
        }
      },
      "source": [
        "weather_data[weather_data.sknt == 0]"
      ],
      "execution_count": 31,
      "outputs": [
        {
          "output_type": "execute_result",
          "data": {
            "text/html": [
              "<div>\n",
              "<style scoped>\n",
              "    .dataframe tbody tr th:only-of-type {\n",
              "        vertical-align: middle;\n",
              "    }\n",
              "\n",
              "    .dataframe tbody tr th {\n",
              "        vertical-align: top;\n",
              "    }\n",
              "\n",
              "    .dataframe thead th {\n",
              "        text-align: right;\n",
              "    }\n",
              "</style>\n",
              "<table border=\"1\" class=\"dataframe\">\n",
              "  <thead>\n",
              "    <tr style=\"text-align: right;\">\n",
              "      <th></th>\n",
              "      <th>tmpf</th>\n",
              "      <th>drct</th>\n",
              "      <th>sknt</th>\n",
              "    </tr>\n",
              "    <tr>\n",
              "      <th>valid</th>\n",
              "      <th></th>\n",
              "      <th></th>\n",
              "      <th></th>\n",
              "    </tr>\n",
              "  </thead>\n",
              "  <tbody>\n",
              "    <tr>\n",
              "      <th>2016-09-01 15:00:00</th>\n",
              "      <td>69.98</td>\n",
              "      <td>0.0</td>\n",
              "      <td>0.0</td>\n",
              "    </tr>\n",
              "    <tr>\n",
              "      <th>2016-09-04 00:00:00</th>\n",
              "      <td>62.96</td>\n",
              "      <td>0.0</td>\n",
              "      <td>0.0</td>\n",
              "    </tr>\n",
              "    <tr>\n",
              "      <th>2016-09-10 06:00:00</th>\n",
              "      <td>73.04</td>\n",
              "      <td>0.0</td>\n",
              "      <td>0.0</td>\n",
              "    </tr>\n",
              "    <tr>\n",
              "      <th>2016-09-12 09:00:00</th>\n",
              "      <td>51.08</td>\n",
              "      <td>0.0</td>\n",
              "      <td>0.0</td>\n",
              "    </tr>\n",
              "    <tr>\n",
              "      <th>2016-09-13 06:00:00</th>\n",
              "      <td>55.04</td>\n",
              "      <td>0.0</td>\n",
              "      <td>0.0</td>\n",
              "    </tr>\n",
              "    <tr>\n",
              "      <th>...</th>\n",
              "      <td>...</td>\n",
              "      <td>...</td>\n",
              "      <td>...</td>\n",
              "    </tr>\n",
              "    <tr>\n",
              "      <th>2017-08-24 10:00:00</th>\n",
              "      <td>57.90</td>\n",
              "      <td>0.0</td>\n",
              "      <td>0.0</td>\n",
              "    </tr>\n",
              "    <tr>\n",
              "      <th>2017-08-26 10:00:00</th>\n",
              "      <td>51.10</td>\n",
              "      <td>0.0</td>\n",
              "      <td>0.0</td>\n",
              "    </tr>\n",
              "    <tr>\n",
              "      <th>2017-08-28 04:00:00</th>\n",
              "      <td>55.00</td>\n",
              "      <td>0.0</td>\n",
              "      <td>0.0</td>\n",
              "    </tr>\n",
              "    <tr>\n",
              "      <th>2017-08-29 05:00:00</th>\n",
              "      <td>54.00</td>\n",
              "      <td>0.0</td>\n",
              "      <td>0.0</td>\n",
              "    </tr>\n",
              "    <tr>\n",
              "      <th>2017-08-31 10:00:00</th>\n",
              "      <td>55.00</td>\n",
              "      <td>0.0</td>\n",
              "      <td>0.0</td>\n",
              "    </tr>\n",
              "  </tbody>\n",
              "</table>\n",
              "<p>244 rows × 3 columns</p>\n",
              "</div>"
            ],
            "text/plain": [
              "                      tmpf  drct  sknt\n",
              "valid                                 \n",
              "2016-09-01 15:00:00  69.98   0.0   0.0\n",
              "2016-09-04 00:00:00  62.96   0.0   0.0\n",
              "2016-09-10 06:00:00  73.04   0.0   0.0\n",
              "2016-09-12 09:00:00  51.08   0.0   0.0\n",
              "2016-09-13 06:00:00  55.04   0.0   0.0\n",
              "...                    ...   ...   ...\n",
              "2017-08-24 10:00:00  57.90   0.0   0.0\n",
              "2017-08-26 10:00:00  51.10   0.0   0.0\n",
              "2017-08-28 04:00:00  55.00   0.0   0.0\n",
              "2017-08-29 05:00:00  54.00   0.0   0.0\n",
              "2017-08-31 10:00:00  55.00   0.0   0.0\n",
              "\n",
              "[244 rows x 3 columns]"
            ]
          },
          "metadata": {
            "tags": []
          },
          "execution_count": 31
        }
      ]
    },
    {
      "cell_type": "code",
      "metadata": {
        "id": "ntShIGzV6dz4",
        "colab_type": "code",
        "outputId": "62035cba-abdb-47fb-dab4-437079f20ec4",
        "colab": {
          "base_uri": "https://localhost:8080/",
          "height": 235
        }
      },
      "source": [
        "# Filling missing values with 0\n",
        "weather_data = weather_data.fillna(0)\n",
        "weather_data.head()"
      ],
      "execution_count": 33,
      "outputs": [
        {
          "output_type": "execute_result",
          "data": {
            "text/html": [
              "<div>\n",
              "<style scoped>\n",
              "    .dataframe tbody tr th:only-of-type {\n",
              "        vertical-align: middle;\n",
              "    }\n",
              "\n",
              "    .dataframe tbody tr th {\n",
              "        vertical-align: top;\n",
              "    }\n",
              "\n",
              "    .dataframe thead th {\n",
              "        text-align: right;\n",
              "    }\n",
              "</style>\n",
              "<table border=\"1\" class=\"dataframe\">\n",
              "  <thead>\n",
              "    <tr style=\"text-align: right;\">\n",
              "      <th></th>\n",
              "      <th>tmpf</th>\n",
              "      <th>drct</th>\n",
              "      <th>sknt</th>\n",
              "    </tr>\n",
              "    <tr>\n",
              "      <th>valid</th>\n",
              "      <th></th>\n",
              "      <th></th>\n",
              "      <th></th>\n",
              "    </tr>\n",
              "  </thead>\n",
              "  <tbody>\n",
              "    <tr>\n",
              "      <th>2016-09-01 00:00:00</th>\n",
              "      <td>75.02</td>\n",
              "      <td>222.500000</td>\n",
              "      <td>5.125000</td>\n",
              "    </tr>\n",
              "    <tr>\n",
              "      <th>2016-09-01 01:00:00</th>\n",
              "      <td>73.94</td>\n",
              "      <td>202.857143</td>\n",
              "      <td>4.857143</td>\n",
              "    </tr>\n",
              "    <tr>\n",
              "      <th>2016-09-01 02:00:00</th>\n",
              "      <td>73.94</td>\n",
              "      <td>218.181818</td>\n",
              "      <td>4.272727</td>\n",
              "    </tr>\n",
              "    <tr>\n",
              "      <th>2016-09-01 03:00:00</th>\n",
              "      <td>73.94</td>\n",
              "      <td>204.444444</td>\n",
              "      <td>4.555556</td>\n",
              "    </tr>\n",
              "    <tr>\n",
              "      <th>2016-09-01 04:00:00</th>\n",
              "      <td>73.04</td>\n",
              "      <td>145.000000</td>\n",
              "      <td>2.700000</td>\n",
              "    </tr>\n",
              "  </tbody>\n",
              "</table>\n",
              "</div>"
            ],
            "text/plain": [
              "                      tmpf        drct      sknt\n",
              "valid                                           \n",
              "2016-09-01 00:00:00  75.02  222.500000  5.125000\n",
              "2016-09-01 01:00:00  73.94  202.857143  4.857143\n",
              "2016-09-01 02:00:00  73.94  218.181818  4.272727\n",
              "2016-09-01 03:00:00  73.94  204.444444  4.555556\n",
              "2016-09-01 04:00:00  73.04  145.000000  2.700000"
            ]
          },
          "metadata": {
            "tags": []
          },
          "execution_count": 33
        }
      ]
    },
    {
      "cell_type": "code",
      "metadata": {
        "id": "nl_lEg1F6xSZ",
        "colab_type": "code",
        "colab": {}
      },
      "source": [
        "# fill the 0 with the past 5 hous mean\n",
        "# sknt column\n",
        "for i in range(0,8719):\n",
        "  if weather_data.iloc[i][2] == 0:\n",
        "    weather_data['sknt'].iloc[i] = total = weather_data['sknt'].iloc[i-5:i].mean()"
      ],
      "execution_count": 0,
      "outputs": []
    },
    {
      "cell_type": "code",
      "metadata": {
        "id": "E3tLP04b8RNo",
        "colab_type": "code",
        "outputId": "dba2d6ea-de30-4cfa-fbaf-985590f8ea16",
        "colab": {
          "base_uri": "https://localhost:8080/",
          "height": 80
        }
      },
      "source": [
        "weather_data[weather_data.sknt == 0] # no 0's in sknt"
      ],
      "execution_count": 35,
      "outputs": [
        {
          "output_type": "execute_result",
          "data": {
            "text/html": [
              "<div>\n",
              "<style scoped>\n",
              "    .dataframe tbody tr th:only-of-type {\n",
              "        vertical-align: middle;\n",
              "    }\n",
              "\n",
              "    .dataframe tbody tr th {\n",
              "        vertical-align: top;\n",
              "    }\n",
              "\n",
              "    .dataframe thead th {\n",
              "        text-align: right;\n",
              "    }\n",
              "</style>\n",
              "<table border=\"1\" class=\"dataframe\">\n",
              "  <thead>\n",
              "    <tr style=\"text-align: right;\">\n",
              "      <th></th>\n",
              "      <th>tmpf</th>\n",
              "      <th>drct</th>\n",
              "      <th>sknt</th>\n",
              "    </tr>\n",
              "    <tr>\n",
              "      <th>valid</th>\n",
              "      <th></th>\n",
              "      <th></th>\n",
              "      <th></th>\n",
              "    </tr>\n",
              "  </thead>\n",
              "  <tbody>\n",
              "  </tbody>\n",
              "</table>\n",
              "</div>"
            ],
            "text/plain": [
              "Empty DataFrame\n",
              "Columns: [tmpf, drct, sknt]\n",
              "Index: []"
            ]
          },
          "metadata": {
            "tags": []
          },
          "execution_count": 35
        }
      ]
    },
    {
      "cell_type": "code",
      "metadata": {
        "id": "BryL1UjlBzbL",
        "colab_type": "code",
        "colab": {}
      },
      "source": [
        "# set train and test dataset\n",
        "a = pd.Timestamp('2017/06/01 00:00:00')\n",
        "b = pd.Timestamp('2017/08/01 00:00:00')\n",
        "sample = weather_data[weather_data.index < b]\n",
        "train = weather_data[weather_data.index < a]\n",
        "val = sample[sample.index >= a]\n",
        "test = weather_data[weather_data.index >= b]\n",
        "# separate the data into train, validation and test\n",
        "# sknt model\n",
        "y_train_1 = train['sknt']\n",
        "y_val_1 = val['sknt']\n",
        "y_test_1 = test['sknt']"
      ],
      "execution_count": 0,
      "outputs": []
    },
    {
      "cell_type": "code",
      "metadata": {
        "id": "Qqav4k3XDTU3",
        "colab_type": "code",
        "outputId": "55ebd04a-ce75-439f-ef0a-05977bae8057",
        "colab": {
          "base_uri": "https://localhost:8080/",
          "height": 68
        }
      },
      "source": [
        "# check the shape\n",
        "print(\"Image train dataset shape: \", x_train.shape, \"Weather train dataset shape: \", train.shape)\n",
        "print(\"Image validation dataset shape: \", x_val.shape, \"Weather validation dataset shape: \", val.shape)\n",
        "print(\"Image test dataset shape: \", x_test.shape, \"Weather test dataset shape: \", test.shape)"
      ],
      "execution_count": 37,
      "outputs": [
        {
          "output_type": "stream",
          "text": [
            "Image train dataset shape:  (6511, 125, 145, 3) Weather train dataset shape:  (6511, 3)\n",
            "Image validation dataset shape:  (1464, 125, 145, 3) Weather validation dataset shape:  (1464, 3)\n",
            "Image test dataset shape:  (744, 125, 145, 3) Weather test dataset shape:  (744, 3)\n"
          ],
          "name": "stdout"
        }
      ]
    },
    {
      "cell_type": "markdown",
      "metadata": {
        "id": "izqyRlQwEEWM",
        "colab_type": "text"
      },
      "source": [
        "## CNN Regression"
      ]
    },
    {
      "cell_type": "code",
      "metadata": {
        "id": "wwxSvIpvECgC",
        "colab_type": "code",
        "colab": {}
      },
      "source": [
        "model1 = tf.keras.Sequential()\n",
        "\n",
        "model1.add(tf.keras.layers.Conv2D(filters=128, kernel_size=2, padding='same', activation='relu', input_shape=(125,145,3))) \n",
        "model1.add(tf.keras.layers.MaxPooling2D(pool_size=2))\n",
        "model1.add(tf.keras.layers.Dropout(0.3))\n",
        "\n",
        "model1.add(tf.keras.layers.Conv2D(filters=64, kernel_size=2, padding='same', activation='relu'))\n",
        "model1.add(tf.keras.layers.MaxPooling2D(pool_size=2))\n",
        "model1.add(tf.keras.layers.Dropout(0.3))\n",
        "\n",
        "model1.add(tf.keras.layers.Conv2D(filters=32, kernel_size=2, padding='same', activation='relu'))\n",
        "model1.add(tf.keras.layers.MaxPooling2D(pool_size=2))\n",
        "model1.add(tf.keras.layers.Dropout(0.3))\n",
        "\n",
        "model1.add(tf.keras.layers.Flatten())\n",
        "model1.add(tf.keras.layers.Dense(256, activation='relu'))\n",
        "model1.add(tf.keras.layers.Dense(128, activation='relu'))\n",
        "\n",
        "model1.add(tf.keras.layers.Dense(1, activation='linear'))"
      ],
      "execution_count": 0,
      "outputs": []
    },
    {
      "cell_type": "code",
      "metadata": {
        "id": "lzyPhuARF7Uf",
        "colab_type": "code",
        "colab": {}
      },
      "source": [
        "model1.compile(optimizer='rmsprop',loss=\"mse\", metrics=['mae'])"
      ],
      "execution_count": 0,
      "outputs": []
    },
    {
      "cell_type": "code",
      "metadata": {
        "id": "kvk-6uRWF_-I",
        "colab_type": "code",
        "colab": {}
      },
      "source": [
        "es1 = EarlyStopping(monitor='val_loss', mode='min', \n",
        "                   patience=5, \n",
        "                   verbose=1)"
      ],
      "execution_count": 0,
      "outputs": []
    },
    {
      "cell_type": "code",
      "metadata": {
        "id": "ZQOEORe3GDNu",
        "colab_type": "code",
        "outputId": "9040dc08-91c3-429c-fc46-a97d0c724d08",
        "colab": {
          "base_uri": "https://localhost:8080/",
          "height": 428
        }
      },
      "source": [
        "# train the model\n",
        "print(\"[INFO] training model...\")\n",
        "history1 = model1.fit(x_train, y_train_1, validation_data=(x_val, y_val_1), epochs=300, batch_size=5,verbose=1,callbacks=[es1])"
      ],
      "execution_count": 46,
      "outputs": [
        {
          "output_type": "stream",
          "text": [
            "[INFO] training model...\n",
            "Train on 6511 samples, validate on 1464 samples\n",
            "Epoch 1/300\n",
            "6511/6511 [==============================] - 30s 5ms/sample - loss: 1747.4706 - mean_absolute_error: 5.4584 - val_loss: 12.2526 - val_mean_absolute_error: 2.7567\n",
            "Epoch 2/300\n",
            "6511/6511 [==============================] - 23s 4ms/sample - loss: 15.2570 - mean_absolute_error: 3.0007 - val_loss: 8.8750 - val_mean_absolute_error: 2.3629\n",
            "Epoch 3/300\n",
            "6511/6511 [==============================] - 23s 4ms/sample - loss: 12.3001 - mean_absolute_error: 2.6923 - val_loss: 7.8530 - val_mean_absolute_error: 2.2111\n",
            "Epoch 4/300\n",
            "6511/6511 [==============================] - 23s 4ms/sample - loss: 10.4242 - mean_absolute_error: 2.4646 - val_loss: 6.0580 - val_mean_absolute_error: 1.9397\n",
            "Epoch 5/300\n",
            "6511/6511 [==============================] - 23s 4ms/sample - loss: 9.5138 - mean_absolute_error: 2.3601 - val_loss: 5.1376 - val_mean_absolute_error: 1.7851\n",
            "Epoch 6/300\n",
            "6511/6511 [==============================] - 23s 4ms/sample - loss: 8.9398 - mean_absolute_error: 2.2835 - val_loss: 5.4550 - val_mean_absolute_error: 1.8403\n",
            "Epoch 7/300\n",
            "6511/6511 [==============================] - 23s 4ms/sample - loss: 8.3131 - mean_absolute_error: 2.2054 - val_loss: 5.3677 - val_mean_absolute_error: 1.8475\n",
            "Epoch 8/300\n",
            "6511/6511 [==============================] - 23s 4ms/sample - loss: 8.0746 - mean_absolute_error: 2.1693 - val_loss: 6.3716 - val_mean_absolute_error: 2.0196\n",
            "Epoch 9/300\n",
            "6511/6511 [==============================] - 23s 4ms/sample - loss: 7.6727 - mean_absolute_error: 2.1248 - val_loss: 6.8698 - val_mean_absolute_error: 2.0804\n",
            "Epoch 10/300\n",
            "6511/6511 [==============================] - 23s 4ms/sample - loss: 7.2283 - mean_absolute_error: 2.0616 - val_loss: 6.0558 - val_mean_absolute_error: 1.9482\n",
            "Epoch 00010: early stopping\n"
          ],
          "name": "stdout"
        }
      ]
    },
    {
      "cell_type": "code",
      "metadata": {
        "id": "-vCCYMG_HIwx",
        "colab_type": "code",
        "outputId": "32fb7f66-1898-4d8b-8094-76bdb1d4ab6a",
        "colab": {
          "base_uri": "https://localhost:8080/",
          "height": 34
        }
      },
      "source": [
        "# let's try to extract from history.history\n",
        "x = np.array(history1.epoch)\n",
        "x = max(x)\n",
        "print(\"We should re-run for this many epochs: \", x)"
      ],
      "execution_count": 51,
      "outputs": [
        {
          "output_type": "stream",
          "text": [
            "We should re-run for this many epochs:  9\n"
          ],
          "name": "stdout"
        }
      ]
    },
    {
      "cell_type": "code",
      "metadata": {
        "id": "w2v8Xp23Hrpt",
        "colab_type": "code",
        "outputId": "ed7e6c8a-405c-4e6d-b0ff-418dfd758b5b",
        "colab": {
          "base_uri": "https://localhost:8080/",
          "height": 295
        }
      },
      "source": [
        "# let's see the training and validation loss by epoch\n",
        "history1_dict = history1.history\n",
        "loss_values = history1_dict['loss'] # you can change this\n",
        "val_loss_values = history1_dict['val_loss'] # you can also change this\n",
        "epochs = range(1, len(loss_values) + 1) #acc wasn't defined before\n",
        "plt.plot(epochs, loss_values, 'bo', label='Training loss')\n",
        "plt.plot(epochs, val_loss_values, 'orange', label='Validation loss')\n",
        "plt.title('Training and validation loss')\n",
        "plt.xlabel('Epochs')\n",
        "plt.ylabel('Loss')\n",
        "plt.legend()\n",
        "plt.show()"
      ],
      "execution_count": 52,
      "outputs": [
        {
          "output_type": "display_data",
          "data": {
            "image/png": "[encoded data removed]",
            "text/plain": [
              "<Figure size 432x288 with 1 Axes>"
            ]
          },
          "metadata": {
            "tags": []
          }
        }
      ]
    },
    {
      "cell_type": "code",
      "metadata": {
        "id": "-mlCaNkGTRMC",
        "colab_type": "code",
        "colab": {}
      },
      "source": [
        "model1.save(\"/content/drive/My Drive/Deep Learning Spring 2020/Week 3 DL/Assignment 2/Cropped Image - Weather Project/Model Results/ConvNet_WindRegression_Model_srs19003.h5\")"
      ],
      "execution_count": 0,
      "outputs": []
    },
    {
      "cell_type": "code",
      "metadata": {
        "id": "_uXzHML7VlUo",
        "colab_type": "code",
        "outputId": "76ae7ce4-de78-438b-dc52-8841b5af43e1",
        "colab": {
          "base_uri": "https://localhost:8080/",
          "height": 312
        }
      },
      "source": [
        "# make predictions on the testing data\n",
        "print(\"[INFO] predicting wind Speed...\")\n",
        "preds1_test = model1.predict(x_test)\n",
        "plt.scatter(y_test_1, preds1_test)\n",
        "plt.title('Speed Test: Predicted vs. Actual')\n",
        "plt.xlabel('Actual')\n",
        "plt.ylabel('Predicted')\n",
        "x = np.linspace(*plt.xlim())\n",
        "plt.plot(x,x,color='red')\n",
        "plt.savefig(result+'Speed Test.png')"
      ],
      "execution_count": 54,
      "outputs": [
        {
          "output_type": "stream",
          "text": [
            "[INFO] predicting wind Speed...\n"
          ],
          "name": "stdout"
        },
        {
          "output_type": "display_data",
          "data": {
            "image/png": "[encoded data removed]",
            "text/plain": [
              "<Figure size 432x288 with 1 Axes>"
            ]
          },
          "metadata": {
            "tags": []
          }
        }
      ]
    },
    {
      "cell_type": "code",
      "metadata": {
        "id": "lCD3lmk0bYPQ",
        "colab_type": "code",
        "outputId": "769b36e4-4c8a-4c05-f159-73320281b458",
        "colab": {
          "base_uri": "https://localhost:8080/",
          "height": 295
        }
      },
      "source": [
        "# actual vs. predicted on training\n",
        "preds1_train = model1.predict(x_train)\n",
        "plt.scatter(y_train_1,preds1_train)\n",
        "plt.title('Speed Train: Predicted vs. Actual')\n",
        "plt.xlabel('Actual')\n",
        "plt.ylabel('Predicted')\n",
        "x = np.linspace(*plt.xlim())\n",
        "plt.plot(x,x,color='red')\n",
        "plt.savefig(result+'Speed Training.png')"
      ],
      "execution_count": 55,
      "outputs": [
        {
          "output_type": "display_data",
          "data": {
            "image/png": "[encoded data removed]",
            "text/plain": [
              "<Figure size 432x288 with 1 Axes>"
            ]
          },
          "metadata": {
            "tags": []
          }
        }
      ]
    },
    {
      "cell_type": "code",
      "metadata": {
        "id": "PqB8ryU4gImb",
        "colab_type": "code",
        "outputId": "bde2826d-ef1b-4a2b-a62e-0840c0e81f21",
        "colab": {
          "base_uri": "https://localhost:8080/",
          "height": 295
        }
      },
      "source": [
        "# actual vs. predicted on Validation\n",
        "preds1_Val = model1.predict(x_val)\n",
        "plt.scatter(y_val_1,preds1_Val)\n",
        "plt.title('Speed Validation: Predicted vs. Actual')\n",
        "plt.xlabel('Actual')\n",
        "plt.ylabel('Predicted')\n",
        "x = np.linspace(*plt.xlim())\n",
        "plt.plot(x,x,color='red')\n",
        "plt.savefig(result+'Speed Validation.png')"
      ],
      "execution_count": 56,
      "outputs": [
        {
          "output_type": "display_data",
          "data": {
            "image/png": "[encoded data removed]",
            "text/plain": [
              "<Figure size 432x288 with 1 Axes>"
            ]
          },
          "metadata": {
            "tags": []
          }
        }
      ]
    },
    {
      "cell_type": "code",
      "metadata": {
        "id": "7lYRjA2sgu3S",
        "colab_type": "code",
        "outputId": "d7c9ecc3-5a48-4768-d1ea-b713c6ad5c14",
        "colab": {
          "base_uri": "https://localhost:8080/",
          "height": 51
        }
      },
      "source": [
        "results_sknt = model1.evaluate(x_test, y_test_1)\n",
        "results_sknt"
      ],
      "execution_count": 57,
      "outputs": [
        {
          "output_type": "stream",
          "text": [
            "744/744 [==============================] - 1s 717us/sample - loss: 4.4230 - mean_absolute_error: 1.6464\n"
          ],
          "name": "stdout"
        },
        {
          "output_type": "execute_result",
          "data": {
            "text/plain": [
              "[4.423030668689359, 1.6464095]"
            ]
          },
          "metadata": {
            "tags": []
          },
          "execution_count": 57
        }
      ]
    },
    {
      "cell_type": "code",
      "metadata": {
        "id": "xRkoAWUmhivA",
        "colab_type": "code",
        "outputId": "2f0e3f2a-35ae-408d-98b0-91cb1ff4c581",
        "colab": {
          "base_uri": "https://localhost:8080/",
          "height": 153
        }
      },
      "source": [
        "# Train dataset\n",
        "# flatten the 1-D numpy array\n",
        "myPreds = np.ndarray.flatten(preds1_train)\n",
        "myPreds = pd.DataFrame(myPreds)\n",
        "myPreds.reset_index(drop=True)\n",
        "myPreds.rename(columns={0: \"preds_speed\"}, inplace=True)\n",
        "myPreds['Type'] = 'train'\n",
        "#actual predictions\n",
        "myActual = pd.DataFrame(np.array(y_train_1))\n",
        "myActual.reset_index(drop=True)\n",
        "myActual.rename(columns={0: \"actual_speed\"}, inplace=True)\n",
        "allResults_speed1 = pd.concat([myActual,myPreds], axis=1)\n",
        "allResults_speed1.info()"
      ],
      "execution_count": 58,
      "outputs": [
        {
          "output_type": "stream",
          "text": [
            "<class 'pandas.core.frame.DataFrame'>\n",
            "RangeIndex: 6511 entries, 0 to 6510\n",
            "Data columns (total 3 columns):\n",
            "actual_speed    6511 non-null float64\n",
            "preds_speed     6511 non-null float32\n",
            "Type            6511 non-null object\n",
            "dtypes: float32(1), float64(1), object(1)\n",
            "memory usage: 127.3+ KB\n"
          ],
          "name": "stdout"
        }
      ]
    },
    {
      "cell_type": "code",
      "metadata": {
        "id": "PEGyJIezjlrI",
        "colab_type": "code",
        "outputId": "b6f1747a-efc3-454b-f9da-764abcea86ba",
        "colab": {
          "base_uri": "https://localhost:8080/",
          "height": 204
        }
      },
      "source": [
        "# Test dataset\n",
        "# flatten the 1-D numpy array\n",
        "myPreds = np.ndarray.flatten(preds1_test)\n",
        "myPreds = pd.DataFrame(myPreds)\n",
        "myPreds.reset_index(drop=True)\n",
        "myPreds.rename(columns={0: \"preds_speed\"}, inplace=True)\n",
        "myPreds['Type'] = 'test'\n",
        "#actual predictions\n",
        "myActual = pd.DataFrame(np.array(y_test_1))\n",
        "myActual.reset_index(drop=True)\n",
        "myActual.rename(columns={0: \"actual_speed\"}, inplace=True)\n",
        "allResults_speed2 = pd.concat([myActual,myPreds], axis=1)\n",
        "allResults_speed2.head()"
      ],
      "execution_count": 59,
      "outputs": [
        {
          "output_type": "execute_result",
          "data": {
            "text/html": [
              "<div>\n",
              "<style scoped>\n",
              "    .dataframe tbody tr th:only-of-type {\n",
              "        vertical-align: middle;\n",
              "    }\n",
              "\n",
              "    .dataframe tbody tr th {\n",
              "        vertical-align: top;\n",
              "    }\n",
              "\n",
              "    .dataframe thead th {\n",
              "        text-align: right;\n",
              "    }\n",
              "</style>\n",
              "<table border=\"1\" class=\"dataframe\">\n",
              "  <thead>\n",
              "    <tr style=\"text-align: right;\">\n",
              "      <th></th>\n",
              "      <th>actual_speed</th>\n",
              "      <th>preds_speed</th>\n",
              "      <th>Type</th>\n",
              "    </tr>\n",
              "  </thead>\n",
              "  <tbody>\n",
              "    <tr>\n",
              "      <th>0</th>\n",
              "      <td>8.833333</td>\n",
              "      <td>4.400661</td>\n",
              "      <td>test</td>\n",
              "    </tr>\n",
              "    <tr>\n",
              "      <th>1</th>\n",
              "      <td>6.076923</td>\n",
              "      <td>4.060831</td>\n",
              "      <td>test</td>\n",
              "    </tr>\n",
              "    <tr>\n",
              "      <th>2</th>\n",
              "      <td>4.615385</td>\n",
              "      <td>3.734385</td>\n",
              "      <td>test</td>\n",
              "    </tr>\n",
              "    <tr>\n",
              "      <th>3</th>\n",
              "      <td>3.307692</td>\n",
              "      <td>3.420371</td>\n",
              "      <td>test</td>\n",
              "    </tr>\n",
              "    <tr>\n",
              "      <th>4</th>\n",
              "      <td>3.076923</td>\n",
              "      <td>2.896009</td>\n",
              "      <td>test</td>\n",
              "    </tr>\n",
              "  </tbody>\n",
              "</table>\n",
              "</div>"
            ],
            "text/plain": [
              "   actual_speed  preds_speed  Type\n",
              "0      8.833333     4.400661  test\n",
              "1      6.076923     4.060831  test\n",
              "2      4.615385     3.734385  test\n",
              "3      3.307692     3.420371  test\n",
              "4      3.076923     2.896009  test"
            ]
          },
          "metadata": {
            "tags": []
          },
          "execution_count": 59
        }
      ]
    },
    {
      "cell_type": "code",
      "metadata": {
        "id": "WFXRDhr-kSM2",
        "colab_type": "code",
        "colab": {}
      },
      "source": [
        "# Saving seperate csv files for train and test\n",
        "allResults_speed1.to_csv ('/content/drive/My Drive/Deep Learning Spring 2020/Week 3 DL/Assignment 2/Cropped Image - Weather Project/Model Results/allResults_speed1.csv')"
      ],
      "execution_count": 0,
      "outputs": []
    },
    {
      "cell_type": "code",
      "metadata": {
        "id": "-CuHxnbGGMOf",
        "colab_type": "code",
        "colab": {}
      },
      "source": [
        "allResults_speed2.to_csv ('/content/drive/My Drive/Deep Learning Spring 2020/Week 3 DL/Assignment 2/Cropped Image - Weather Project/Model Results/allResults_speed2.csv')"
      ],
      "execution_count": 0,
      "outputs": []
    },
    {
      "cell_type": "markdown",
      "metadata": {
        "id": "Po8LiQE-lgaD",
        "colab_type": "text"
      },
      "source": [
        "## Binary Classification Model for Air Temperature"
      ]
    },
    {
      "cell_type": "code",
      "metadata": {
        "id": "dwgqykWx0dvJ",
        "colab_type": "code",
        "colab": {}
      },
      "source": [
        "# fill the 0 with the past 5 hous mean\n",
        "# tmpf column\n",
        "for i in range(0,8719):\n",
        "  if weather_data.iloc[i][0] == 0:\n",
        "    weather_data['tmpf'].iloc[i] = total = weather_data['tmpf'].iloc[i-5:i].mean()"
      ],
      "execution_count": 0,
      "outputs": []
    },
    {
      "cell_type": "code",
      "metadata": {
        "id": "2-1d66i4lrI8",
        "colab_type": "code",
        "colab": {}
      },
      "source": [
        "# Binary Classification\n",
        "import statistics as st\n",
        "above_avg = weather_data[weather_data['tmpf']>= weather_data['tmpf'].mean()]\n",
        "below_avg = weather_data[weather_data['tmpf']< weather_data['tmpf'].mean()]"
      ],
      "execution_count": 0,
      "outputs": []
    },
    {
      "cell_type": "code",
      "metadata": {
        "id": "FvTzWPbCmTSQ",
        "colab_type": "code",
        "outputId": "bc8301e9-312b-41d8-b4dc-2f4d4ab9b486",
        "colab": {
          "base_uri": "https://localhost:8080/",
          "height": 439
        }
      },
      "source": [
        "# Creating Flag as Binary target\n",
        "above_avg['Flag_temp'] = 1\n",
        "below_avg['Flag_temp'] = 0\n",
        "binary_data = pd.concat([above_avg,below_avg], axis=0)\n",
        "binary_data.head()"
      ],
      "execution_count": 68,
      "outputs": [
        {
          "output_type": "stream",
          "text": [
            "/usr/local/lib/python3.6/dist-packages/ipykernel_launcher.py:1: SettingWithCopyWarning: \n",
            "A value is trying to be set on a copy of a slice from a DataFrame.\n",
            "Try using .loc[row_indexer,col_indexer] = value instead\n",
            "\n",
            "See the caveats in the documentation: http://pandas.pydata.org/pandas-docs/stable/user_guide/indexing.html#returning-a-view-versus-a-copy\n",
            "  \"\"\"Entry point for launching an IPython kernel.\n",
            "/usr/local/lib/python3.6/dist-packages/ipykernel_launcher.py:2: SettingWithCopyWarning: \n",
            "A value is trying to be set on a copy of a slice from a DataFrame.\n",
            "Try using .loc[row_indexer,col_indexer] = value instead\n",
            "\n",
            "See the caveats in the documentation: http://pandas.pydata.org/pandas-docs/stable/user_guide/indexing.html#returning-a-view-versus-a-copy\n",
            "  \n"
          ],
          "name": "stderr"
        },
        {
          "output_type": "execute_result",
          "data": {
            "text/html": [
              "<div>\n",
              "<style scoped>\n",
              "    .dataframe tbody tr th:only-of-type {\n",
              "        vertical-align: middle;\n",
              "    }\n",
              "\n",
              "    .dataframe tbody tr th {\n",
              "        vertical-align: top;\n",
              "    }\n",
              "\n",
              "    .dataframe thead th {\n",
              "        text-align: right;\n",
              "    }\n",
              "</style>\n",
              "<table border=\"1\" class=\"dataframe\">\n",
              "  <thead>\n",
              "    <tr style=\"text-align: right;\">\n",
              "      <th></th>\n",
              "      <th>tmpf</th>\n",
              "      <th>drct</th>\n",
              "      <th>sknt</th>\n",
              "      <th>Flag_temp</th>\n",
              "    </tr>\n",
              "    <tr>\n",
              "      <th>valid</th>\n",
              "      <th></th>\n",
              "      <th></th>\n",
              "      <th></th>\n",
              "      <th></th>\n",
              "    </tr>\n",
              "  </thead>\n",
              "  <tbody>\n",
              "    <tr>\n",
              "      <th>2016-09-01 00:00:00</th>\n",
              "      <td>75.02</td>\n",
              "      <td>222.500000</td>\n",
              "      <td>5.125000</td>\n",
              "      <td>1</td>\n",
              "    </tr>\n",
              "    <tr>\n",
              "      <th>2016-09-01 01:00:00</th>\n",
              "      <td>73.94</td>\n",
              "      <td>202.857143</td>\n",
              "      <td>4.857143</td>\n",
              "      <td>1</td>\n",
              "    </tr>\n",
              "    <tr>\n",
              "      <th>2016-09-01 02:00:00</th>\n",
              "      <td>73.94</td>\n",
              "      <td>218.181818</td>\n",
              "      <td>4.272727</td>\n",
              "      <td>1</td>\n",
              "    </tr>\n",
              "    <tr>\n",
              "      <th>2016-09-01 03:00:00</th>\n",
              "      <td>73.94</td>\n",
              "      <td>204.444444</td>\n",
              "      <td>4.555556</td>\n",
              "      <td>1</td>\n",
              "    </tr>\n",
              "    <tr>\n",
              "      <th>2016-09-01 04:00:00</th>\n",
              "      <td>73.04</td>\n",
              "      <td>145.000000</td>\n",
              "      <td>2.700000</td>\n",
              "      <td>1</td>\n",
              "    </tr>\n",
              "  </tbody>\n",
              "</table>\n",
              "</div>"
            ],
            "text/plain": [
              "                      tmpf        drct      sknt  Flag_temp\n",
              "valid                                                      \n",
              "2016-09-01 00:00:00  75.02  222.500000  5.125000          1\n",
              "2016-09-01 01:00:00  73.94  202.857143  4.857143          1\n",
              "2016-09-01 02:00:00  73.94  218.181818  4.272727          1\n",
              "2016-09-01 03:00:00  73.94  204.444444  4.555556          1\n",
              "2016-09-01 04:00:00  73.04  145.000000  2.700000          1"
            ]
          },
          "metadata": {
            "tags": []
          },
          "execution_count": 68
        }
      ]
    },
    {
      "cell_type": "code",
      "metadata": {
        "id": "S7goxVqMmknv",
        "colab_type": "code",
        "outputId": "d46cf912-b2b0-4fff-fc46-502c17f7aeea",
        "colab": {
          "base_uri": "https://localhost:8080/",
          "height": 235
        }
      },
      "source": [
        "binary_data = binary_data.drop(['tmpf'],axis=1)\n",
        "binary_data.head()"
      ],
      "execution_count": 69,
      "outputs": [
        {
          "output_type": "execute_result",
          "data": {
            "text/html": [
              "<div>\n",
              "<style scoped>\n",
              "    .dataframe tbody tr th:only-of-type {\n",
              "        vertical-align: middle;\n",
              "    }\n",
              "\n",
              "    .dataframe tbody tr th {\n",
              "        vertical-align: top;\n",
              "    }\n",
              "\n",
              "    .dataframe thead th {\n",
              "        text-align: right;\n",
              "    }\n",
              "</style>\n",
              "<table border=\"1\" class=\"dataframe\">\n",
              "  <thead>\n",
              "    <tr style=\"text-align: right;\">\n",
              "      <th></th>\n",
              "      <th>drct</th>\n",
              "      <th>sknt</th>\n",
              "      <th>Flag_temp</th>\n",
              "    </tr>\n",
              "    <tr>\n",
              "      <th>valid</th>\n",
              "      <th></th>\n",
              "      <th></th>\n",
              "      <th></th>\n",
              "    </tr>\n",
              "  </thead>\n",
              "  <tbody>\n",
              "    <tr>\n",
              "      <th>2016-09-01 00:00:00</th>\n",
              "      <td>222.500000</td>\n",
              "      <td>5.125000</td>\n",
              "      <td>1</td>\n",
              "    </tr>\n",
              "    <tr>\n",
              "      <th>2016-09-01 01:00:00</th>\n",
              "      <td>202.857143</td>\n",
              "      <td>4.857143</td>\n",
              "      <td>1</td>\n",
              "    </tr>\n",
              "    <tr>\n",
              "      <th>2016-09-01 02:00:00</th>\n",
              "      <td>218.181818</td>\n",
              "      <td>4.272727</td>\n",
              "      <td>1</td>\n",
              "    </tr>\n",
              "    <tr>\n",
              "      <th>2016-09-01 03:00:00</th>\n",
              "      <td>204.444444</td>\n",
              "      <td>4.555556</td>\n",
              "      <td>1</td>\n",
              "    </tr>\n",
              "    <tr>\n",
              "      <th>2016-09-01 04:00:00</th>\n",
              "      <td>145.000000</td>\n",
              "      <td>2.700000</td>\n",
              "      <td>1</td>\n",
              "    </tr>\n",
              "  </tbody>\n",
              "</table>\n",
              "</div>"
            ],
            "text/plain": [
              "                           drct      sknt  Flag_temp\n",
              "valid                                               \n",
              "2016-09-01 00:00:00  222.500000  5.125000          1\n",
              "2016-09-01 01:00:00  202.857143  4.857143          1\n",
              "2016-09-01 02:00:00  218.181818  4.272727          1\n",
              "2016-09-01 03:00:00  204.444444  4.555556          1\n",
              "2016-09-01 04:00:00  145.000000  2.700000          1"
            ]
          },
          "metadata": {
            "tags": []
          },
          "execution_count": 69
        }
      ]
    },
    {
      "cell_type": "code",
      "metadata": {
        "id": "r0ORR3EoyN6h",
        "colab_type": "code",
        "colab": {}
      },
      "source": [
        "# set train and test dataset\n",
        "a = pd.Timestamp('2017/06/01 00:00:00')\n",
        "b = pd.Timestamp('2017/08/01 00:00:00')\n",
        "sample = binary_data[binary_data.index < b]\n",
        "train = binary_data[binary_data.index < a]\n",
        "val = sample[sample.index >= a]\n",
        "test = binary_data[binary_data.index >= b]\n",
        "# separate the data into train, validation and test\n",
        "y_train_2 = train['Flag_temp']\n",
        "y_val_2 = val['Flag_temp']\n",
        "y_test_2 = test['Flag_temp']"
      ],
      "execution_count": 0,
      "outputs": []
    },
    {
      "cell_type": "code",
      "metadata": {
        "id": "7CmLQ2oM0uZy",
        "colab_type": "code",
        "outputId": "bc7356b3-fc85-446b-c76f-eedaa4359b40",
        "colab": {
          "base_uri": "https://localhost:8080/",
          "height": 68
        }
      },
      "source": [
        "# check the shape\n",
        "print(\"Image train dataset shape: \", x_train.shape, \"Weather train dataset shape: \", train.shape)\n",
        "print(\"Image validation dataset shape: \", x_val.shape, \"Weather validation dataset shape: \", val.shape)\n",
        "print(\"Image test dataset shape: \", x_test.shape, \"Weather test dataset shape: \", test.shape)"
      ],
      "execution_count": 73,
      "outputs": [
        {
          "output_type": "stream",
          "text": [
            "Image train dataset shape:  (6511, 125, 145, 3) Weather train dataset shape:  (6511, 3)\n",
            "Image validation dataset shape:  (1464, 125, 145, 3) Weather validation dataset shape:  (1464, 3)\n",
            "Image test dataset shape:  (744, 125, 145, 3) Weather test dataset shape:  (744, 3)\n"
          ],
          "name": "stdout"
        }
      ]
    },
    {
      "cell_type": "code",
      "metadata": {
        "id": "OlUqgO430z4l",
        "colab_type": "code",
        "colab": {}
      },
      "source": [
        "from keras.wrappers.scikit_learn import KerasClassifier\n",
        "\n",
        "def create_model():\n",
        " modelCL = tf.keras.Sequential()\n",
        "\n",
        " modelCL.add(tf.keras.layers.Conv2D(filters=128, kernel_size=2, padding='same', activation='relu', input_shape=(125,145,3))) \n",
        " modelCL.add(tf.keras.layers.MaxPooling2D(pool_size=2))\n",
        " modelCL.add(tf.keras.layers.Dropout(0.3))\n",
        "\n",
        " modelCL.add(tf.keras.layers.Conv2D(filters=64, kernel_size=2, padding='same', activation='relu'))\n",
        " modelCL.add(tf.keras.layers.MaxPooling2D(pool_size=2))\n",
        " modelCL.add(tf.keras.layers.Dropout(0.3))\n",
        "\n",
        " modelCL.add(tf.keras.layers.Conv2D(filters=32, kernel_size=2, padding='same', activation='relu'))\n",
        " modelCL.add(tf.keras.layers.MaxPooling2D(pool_size=2))\n",
        " modelCL.add(tf.keras.layers.Dropout(0.3))\n",
        "\n",
        " modelCL.add(tf.keras.layers.Flatten())\n",
        " modelCL.add(tf.keras.layers.Dense(256, activation='relu'))\n",
        " modelCL.add(tf.keras.layers.Dense(128, activation='relu'))\n",
        "\n",
        " modelCL.add(tf.keras.layers.Dense(1, activation='sigmoid'))\n",
        " modelCL.compile(loss='binary_crossentropy', optimizer='adam', metrics=['accuracy'])\n",
        " return modelCL\n",
        "\n",
        "modelCL=KerasClassifier(build_fn=create_model)  "
      ],
      "execution_count": 0,
      "outputs": []
    },
    {
      "cell_type": "code",
      "metadata": {
        "id": "VKZpn93R4aar",
        "colab_type": "code",
        "colab": {}
      },
      "source": [
        "es2 = EarlyStopping(monitor='val_loss', mode='min', \n",
        "                   patience=5, \n",
        "                   verbose=1)"
      ],
      "execution_count": 0,
      "outputs": []
    },
    {
      "cell_type": "code",
      "metadata": {
        "id": "7F2Pooev4jrV",
        "colab_type": "code",
        "outputId": "95ac5b8f-481e-4855-d4dc-823917a5b3e9",
        "colab": {
          "base_uri": "https://localhost:8080/",
          "height": 411
        }
      },
      "source": [
        "# train the model\n",
        "print(\"[INFO] training model...\")\n",
        "history2 = modelCL.fit(x_train, y_train_2, validation_data=(x_val, y_val_2), epochs=300, batch_size=5,verbose=1,callbacks=[es2])"
      ],
      "execution_count": 77,
      "outputs": [
        {
          "output_type": "stream",
          "text": [
            "[INFO] training model...\n",
            "WARNING:tensorflow:From /usr/local/lib/python3.6/dist-packages/tensorflow_core/python/ops/nn_impl.py:183: where (from tensorflow.python.ops.array_ops) is deprecated and will be removed in a future version.\n",
            "Instructions for updating:\n",
            "Use tf.where in 2.0, which has the same broadcast rule as np.where\n",
            "Train on 6511 samples, validate on 1464 samples\n",
            "Epoch 1/300\n",
            "6511/6511 [==============================] - 23s 4ms/sample - loss: 0.9600 - acc: 0.8621 - val_loss: 0.7759 - val_acc: 0.7903\n",
            "Epoch 2/300\n",
            "6511/6511 [==============================] - 23s 3ms/sample - loss: 0.2550 - acc: 0.9080 - val_loss: 0.6537 - val_acc: 0.7507\n",
            "Epoch 3/300\n",
            "6511/6511 [==============================] - 22s 3ms/sample - loss: 0.2257 - acc: 0.9106 - val_loss: 0.4370 - val_acc: 0.8989\n",
            "Epoch 4/300\n",
            "6511/6511 [==============================] - 22s 3ms/sample - loss: 0.2298 - acc: 0.9157 - val_loss: 0.4707 - val_acc: 0.9044\n",
            "Epoch 5/300\n",
            "6511/6511 [==============================] - 22s 3ms/sample - loss: 0.2143 - acc: 0.9169 - val_loss: 0.8918 - val_acc: 0.8272\n",
            "Epoch 6/300\n",
            "6511/6511 [==============================] - 22s 3ms/sample - loss: 0.1916 - acc: 0.9232 - val_loss: 1.1372 - val_acc: 0.8313\n",
            "Epoch 7/300\n",
            "6511/6511 [==============================] - 22s 3ms/sample - loss: 0.1872 - acc: 0.9260 - val_loss: 1.5300 - val_acc: 0.8149\n",
            "Epoch 8/300\n",
            "6511/6511 [==============================] - 22s 3ms/sample - loss: 0.1924 - acc: 0.9269 - val_loss: 0.5512 - val_acc: 0.8019\n",
            "Epoch 00008: early stopping\n"
          ],
          "name": "stdout"
        }
      ]
    },
    {
      "cell_type": "code",
      "metadata": {
        "id": "tcvMxlp17CjL",
        "colab_type": "code",
        "outputId": "48095ef3-8758-40b4-c7bc-9af28759e9b6",
        "colab": {
          "base_uri": "https://localhost:8080/",
          "height": 34
        }
      },
      "source": [
        "# let's try to extract from history.history\n",
        "x = np.array(history2.epoch)\n",
        "x = max(x)\n",
        "print(\"We should re-run for this many epochs: \", x)"
      ],
      "execution_count": 78,
      "outputs": [
        {
          "output_type": "stream",
          "text": [
            "We should re-run for this many epochs:  7\n"
          ],
          "name": "stdout"
        }
      ]
    },
    {
      "cell_type": "code",
      "metadata": {
        "id": "R_3KiTFp7qdd",
        "colab_type": "code",
        "colab": {}
      },
      "source": [
        "modelCL.model.save(\"/content/drive/My Drive/Deep Learning Spring 2020/Week 3 DL/Assignment 2/Cropped Image - Weather Project/Model Results/ConvNet_TempClassification_Model_srs19003.h5\")"
      ],
      "execution_count": 0,
      "outputs": []
    },
    {
      "cell_type": "code",
      "metadata": {
        "id": "VJvW0Z5V78Dy",
        "colab_type": "code",
        "colab": {}
      },
      "source": [
        "#NN Test\n",
        "CL_test = modelCL.predict(x_test)"
      ],
      "execution_count": 0,
      "outputs": []
    },
    {
      "cell_type": "code",
      "metadata": {
        "id": "dgftD82x8hlq",
        "colab_type": "code",
        "outputId": "9408170e-b470-417a-9238-f3b1be586f2d",
        "colab": {
          "base_uri": "https://localhost:8080/",
          "height": 34
        }
      },
      "source": [
        "from sklearn.metrics import accuracy_score\n",
        "CL_test_score = accuracy_score(y_test_2, CL_test)\n",
        "print(\"Dense Neural Network Test Accuracy Score = \", CL_test_score)"
      ],
      "execution_count": 82,
      "outputs": [
        {
          "output_type": "stream",
          "text": [
            "Dense Neural Network Test Accuracy Score =  0.9946236559139785\n"
          ],
          "name": "stdout"
        }
      ]
    },
    {
      "cell_type": "code",
      "metadata": {
        "id": "0TZmKgTq8gOL",
        "colab_type": "code",
        "outputId": "4f31209d-1d37-42c4-e70e-5d3c84d5598f",
        "colab": {
          "base_uri": "https://localhost:8080/",
          "height": 111
        }
      },
      "source": [
        "# Confusion Matrix Test\n",
        "from sklearn.metrics import confusion_matrix\n",
        "pd.DataFrame(confusion_matrix(y_test_2, CL_test))"
      ],
      "execution_count": 83,
      "outputs": [
        {
          "output_type": "execute_result",
          "data": {
            "text/html": [
              "<div>\n",
              "<style scoped>\n",
              "    .dataframe tbody tr th:only-of-type {\n",
              "        vertical-align: middle;\n",
              "    }\n",
              "\n",
              "    .dataframe tbody tr th {\n",
              "        vertical-align: top;\n",
              "    }\n",
              "\n",
              "    .dataframe thead th {\n",
              "        text-align: right;\n",
              "    }\n",
              "</style>\n",
              "<table border=\"1\" class=\"dataframe\">\n",
              "  <thead>\n",
              "    <tr style=\"text-align: right;\">\n",
              "      <th></th>\n",
              "      <th>0</th>\n",
              "      <th>1</th>\n",
              "    </tr>\n",
              "  </thead>\n",
              "  <tbody>\n",
              "    <tr>\n",
              "      <th>0</th>\n",
              "      <td>0</td>\n",
              "      <td>4</td>\n",
              "    </tr>\n",
              "    <tr>\n",
              "      <th>1</th>\n",
              "      <td>0</td>\n",
              "      <td>740</td>\n",
              "    </tr>\n",
              "  </tbody>\n",
              "</table>\n",
              "</div>"
            ],
            "text/plain": [
              "   0    1\n",
              "0  0    4\n",
              "1  0  740"
            ]
          },
          "metadata": {
            "tags": []
          },
          "execution_count": 83
        }
      ]
    },
    {
      "cell_type": "code",
      "metadata": {
        "id": "4Y4ZnvLB2zQT",
        "colab_type": "code",
        "outputId": "ec644225-f25d-4998-c108-57b43f772f8c",
        "colab": {
          "base_uri": "https://localhost:8080/",
          "height": 111
        }
      },
      "source": [
        "# Confusion Matrix Train\n",
        "CL_train = modelCL.predict(x_train)\n",
        "pd.DataFrame(confusion_matrix(y_train_2, CL_train))"
      ],
      "execution_count": 84,
      "outputs": [
        {
          "output_type": "execute_result",
          "data": {
            "text/html": [
              "<div>\n",
              "<style scoped>\n",
              "    .dataframe tbody tr th:only-of-type {\n",
              "        vertical-align: middle;\n",
              "    }\n",
              "\n",
              "    .dataframe tbody tr th {\n",
              "        vertical-align: top;\n",
              "    }\n",
              "\n",
              "    .dataframe thead th {\n",
              "        text-align: right;\n",
              "    }\n",
              "</style>\n",
              "<table border=\"1\" class=\"dataframe\">\n",
              "  <thead>\n",
              "    <tr style=\"text-align: right;\">\n",
              "      <th></th>\n",
              "      <th>0</th>\n",
              "      <th>1</th>\n",
              "    </tr>\n",
              "  </thead>\n",
              "  <tbody>\n",
              "    <tr>\n",
              "      <th>0</th>\n",
              "      <td>4216</td>\n",
              "      <td>46</td>\n",
              "    </tr>\n",
              "    <tr>\n",
              "      <th>1</th>\n",
              "      <td>383</td>\n",
              "      <td>1866</td>\n",
              "    </tr>\n",
              "  </tbody>\n",
              "</table>\n",
              "</div>"
            ],
            "text/plain": [
              "      0     1\n",
              "0  4216    46\n",
              "1   383  1866"
            ]
          },
          "metadata": {
            "tags": []
          },
          "execution_count": 84
        }
      ]
    },
    {
      "cell_type": "code",
      "metadata": {
        "id": "JTFXlOmU3RE8",
        "colab_type": "code",
        "outputId": "f6b389a6-61ce-480a-d659-0ac616d28276",
        "colab": {
          "base_uri": "https://localhost:8080/",
          "height": 111
        }
      },
      "source": [
        "# Confusion Matrix Validation\n",
        "CL_val = modelCL.predict(x_val)\n",
        "pd.DataFrame(confusion_matrix(y_val_2, CL_val))"
      ],
      "execution_count": 85,
      "outputs": [
        {
          "output_type": "execute_result",
          "data": {
            "text/html": [
              "<div>\n",
              "<style scoped>\n",
              "    .dataframe tbody tr th:only-of-type {\n",
              "        vertical-align: middle;\n",
              "    }\n",
              "\n",
              "    .dataframe tbody tr th {\n",
              "        vertical-align: top;\n",
              "    }\n",
              "\n",
              "    .dataframe thead th {\n",
              "        text-align: right;\n",
              "    }\n",
              "</style>\n",
              "<table border=\"1\" class=\"dataframe\">\n",
              "  <thead>\n",
              "    <tr style=\"text-align: right;\">\n",
              "      <th></th>\n",
              "      <th>0</th>\n",
              "      <th>1</th>\n",
              "    </tr>\n",
              "  </thead>\n",
              "  <tbody>\n",
              "    <tr>\n",
              "      <th>0</th>\n",
              "      <td>0</td>\n",
              "      <td>50</td>\n",
              "    </tr>\n",
              "    <tr>\n",
              "      <th>1</th>\n",
              "      <td>240</td>\n",
              "      <td>1174</td>\n",
              "    </tr>\n",
              "  </tbody>\n",
              "</table>\n",
              "</div>"
            ],
            "text/plain": [
              "     0     1\n",
              "0    0    50\n",
              "1  240  1174"
            ]
          },
          "metadata": {
            "tags": []
          },
          "execution_count": 85
        }
      ]
    },
    {
      "cell_type": "code",
      "metadata": {
        "id": "oF2K8zno44VH",
        "colab_type": "code",
        "outputId": "0432b273-3197-4cb3-ee92-0bfb2838428f",
        "colab": {
          "base_uri": "https://localhost:8080/",
          "height": 136
        }
      },
      "source": [
        "CL_train_prob = modelCL.predict_proba(x_train)\n",
        "CL_test_prob = modelCL.predict_proba(x_test)\n",
        "print(CL_test_prob)"
      ],
      "execution_count": 86,
      "outputs": [
        {
          "output_type": "stream",
          "text": [
            "[[0.00799108 0.9920089 ]\n",
            " [0.00772178 0.9922782 ]\n",
            " [0.00801539 0.9919846 ]\n",
            " ...\n",
            " [0.01687205 0.98312795]\n",
            " [0.0154469  0.9845531 ]\n",
            " [0.01731306 0.98268694]]\n"
          ],
          "name": "stdout"
        }
      ]
    },
    {
      "cell_type": "code",
      "metadata": {
        "id": "cA7jLcfK32Du",
        "colab_type": "code",
        "outputId": "425f3a87-7bf2-4bfa-b1ec-6d21d6fe278c",
        "colab": {
          "base_uri": "https://localhost:8080/",
          "height": 170
        }
      },
      "source": [
        "# Train dataset\n",
        "# flatten the 1-D numpy array\n",
        "#predicted\n",
        "myPreds = np.ndarray.flatten(CL_train)\n",
        "myPreds = pd.DataFrame(myPreds)\n",
        "myPreds.reset_index(drop=True)\n",
        "myPreds.rename(columns={0: \"pred_temp\"}, inplace=True)\n",
        "myPreds['Type'] = 'train'\n",
        "#predicted probabilities\n",
        "myProb = np.ndarray.flatten(CL_train_prob)\n",
        "myProb = pd.DataFrame(myProb)\n",
        "myProb.reset_index(drop=True)\n",
        "myProb.rename(columns={0: \"pred_temp_prob\"}, inplace=True)\n",
        "#actual predictions\n",
        "myActual = pd.DataFrame(np.array(y_train_2))\n",
        "myActual.reset_index(drop=True)\n",
        "myActual.rename(columns={0: \"actual_temp\"}, inplace=True)\n",
        "allResults_temp1 = pd.concat([myActual,myPreds,myProb], axis=1)\n",
        "allResults_temp1.info()"
      ],
      "execution_count": 88,
      "outputs": [
        {
          "output_type": "stream",
          "text": [
            "<class 'pandas.core.frame.DataFrame'>\n",
            "RangeIndex: 13022 entries, 0 to 13021\n",
            "Data columns (total 4 columns):\n",
            "actual_temp       6511 non-null float64\n",
            "pred_temp         6511 non-null float64\n",
            "Type              6511 non-null object\n",
            "pred_temp_prob    13022 non-null float32\n",
            "dtypes: float32(1), float64(2), object(1)\n",
            "memory usage: 356.2+ KB\n"
          ],
          "name": "stdout"
        }
      ]
    },
    {
      "cell_type": "code",
      "metadata": {
        "id": "N9k0re6b4gKw",
        "colab_type": "code",
        "outputId": "ad028da7-e45a-4978-af32-d19901ea7f52",
        "colab": {
          "base_uri": "https://localhost:8080/",
          "height": 204
        }
      },
      "source": [
        "allResults_temp1.head()"
      ],
      "execution_count": 89,
      "outputs": [
        {
          "output_type": "execute_result",
          "data": {
            "text/html": [
              "<div>\n",
              "<style scoped>\n",
              "    .dataframe tbody tr th:only-of-type {\n",
              "        vertical-align: middle;\n",
              "    }\n",
              "\n",
              "    .dataframe tbody tr th {\n",
              "        vertical-align: top;\n",
              "    }\n",
              "\n",
              "    .dataframe thead th {\n",
              "        text-align: right;\n",
              "    }\n",
              "</style>\n",
              "<table border=\"1\" class=\"dataframe\">\n",
              "  <thead>\n",
              "    <tr style=\"text-align: right;\">\n",
              "      <th></th>\n",
              "      <th>actual_temp</th>\n",
              "      <th>pred_temp</th>\n",
              "      <th>Type</th>\n",
              "      <th>pred_temp_prob</th>\n",
              "    </tr>\n",
              "  </thead>\n",
              "  <tbody>\n",
              "    <tr>\n",
              "      <th>0</th>\n",
              "      <td>1.0</td>\n",
              "      <td>1.0</td>\n",
              "      <td>train</td>\n",
              "      <td>0.004465</td>\n",
              "    </tr>\n",
              "    <tr>\n",
              "      <th>1</th>\n",
              "      <td>1.0</td>\n",
              "      <td>1.0</td>\n",
              "      <td>train</td>\n",
              "      <td>0.995535</td>\n",
              "    </tr>\n",
              "    <tr>\n",
              "      <th>2</th>\n",
              "      <td>1.0</td>\n",
              "      <td>1.0</td>\n",
              "      <td>train</td>\n",
              "      <td>0.005360</td>\n",
              "    </tr>\n",
              "    <tr>\n",
              "      <th>3</th>\n",
              "      <td>1.0</td>\n",
              "      <td>1.0</td>\n",
              "      <td>train</td>\n",
              "      <td>0.994640</td>\n",
              "    </tr>\n",
              "    <tr>\n",
              "      <th>4</th>\n",
              "      <td>1.0</td>\n",
              "      <td>1.0</td>\n",
              "      <td>train</td>\n",
              "      <td>0.003700</td>\n",
              "    </tr>\n",
              "  </tbody>\n",
              "</table>\n",
              "</div>"
            ],
            "text/plain": [
              "   actual_temp  pred_temp   Type  pred_temp_prob\n",
              "0          1.0        1.0  train        0.004465\n",
              "1          1.0        1.0  train        0.995535\n",
              "2          1.0        1.0  train        0.005360\n",
              "3          1.0        1.0  train        0.994640\n",
              "4          1.0        1.0  train        0.003700"
            ]
          },
          "metadata": {
            "tags": []
          },
          "execution_count": 89
        }
      ]
    },
    {
      "cell_type": "code",
      "metadata": {
        "id": "SH7kRGGq7Mwo",
        "colab_type": "code",
        "outputId": "7ed186cf-4ec4-4a75-9c51-4eb91da0303c",
        "colab": {
          "base_uri": "https://localhost:8080/",
          "height": 170
        }
      },
      "source": [
        "# Test dataset\n",
        "# flatten the 1-D numpy array\n",
        "#predicted\n",
        "myPreds = np.ndarray.flatten(CL_test)\n",
        "myPreds = pd.DataFrame(myPreds)\n",
        "myPreds.reset_index(drop=True)\n",
        "myPreds.rename(columns={0: \"pred_temp\"}, inplace=True)\n",
        "myPreds['Type'] = 'test'\n",
        "#predicted probabilities\n",
        "myProb = np.ndarray.flatten(CL_test_prob)\n",
        "myProb = pd.DataFrame(myProb)\n",
        "myProb.reset_index(drop=True)\n",
        "myProb.rename(columns={0: \"pred_temp_prob\"}, inplace=True)\n",
        "#actual predictions\n",
        "myActual = pd.DataFrame(np.array(y_test_2))\n",
        "myActual.reset_index(drop=True)\n",
        "myActual.rename(columns={0: \"actual_temp\"}, inplace=True)\n",
        "allResults_temp2 = pd.concat([myActual,myPreds,myProb], axis=1)\n",
        "allResults_temp2.info()"
      ],
      "execution_count": 92,
      "outputs": [
        {
          "output_type": "stream",
          "text": [
            "<class 'pandas.core.frame.DataFrame'>\n",
            "RangeIndex: 1488 entries, 0 to 1487\n",
            "Data columns (total 4 columns):\n",
            "actual_temp       744 non-null float64\n",
            "pred_temp         744 non-null float64\n",
            "Type              744 non-null object\n",
            "pred_temp_prob    1488 non-null float32\n",
            "dtypes: float32(1), float64(2), object(1)\n",
            "memory usage: 40.8+ KB\n"
          ],
          "name": "stdout"
        }
      ]
    },
    {
      "cell_type": "code",
      "metadata": {
        "id": "CAmL-4qO7f07",
        "colab_type": "code",
        "outputId": "8b6b64a0-527a-43bd-bdf6-14c95aa64bd6",
        "colab": {
          "base_uri": "https://localhost:8080/",
          "height": 204
        }
      },
      "source": [
        "allResults_temp2.head()"
      ],
      "execution_count": 93,
      "outputs": [
        {
          "output_type": "execute_result",
          "data": {
            "text/html": [
              "<div>\n",
              "<style scoped>\n",
              "    .dataframe tbody tr th:only-of-type {\n",
              "        vertical-align: middle;\n",
              "    }\n",
              "\n",
              "    .dataframe tbody tr th {\n",
              "        vertical-align: top;\n",
              "    }\n",
              "\n",
              "    .dataframe thead th {\n",
              "        text-align: right;\n",
              "    }\n",
              "</style>\n",
              "<table border=\"1\" class=\"dataframe\">\n",
              "  <thead>\n",
              "    <tr style=\"text-align: right;\">\n",
              "      <th></th>\n",
              "      <th>actual_temp</th>\n",
              "      <th>pred_temp</th>\n",
              "      <th>Type</th>\n",
              "      <th>pred_temp_prob</th>\n",
              "    </tr>\n",
              "  </thead>\n",
              "  <tbody>\n",
              "    <tr>\n",
              "      <th>0</th>\n",
              "      <td>1.0</td>\n",
              "      <td>1.0</td>\n",
              "      <td>test</td>\n",
              "      <td>0.007991</td>\n",
              "    </tr>\n",
              "    <tr>\n",
              "      <th>1</th>\n",
              "      <td>1.0</td>\n",
              "      <td>1.0</td>\n",
              "      <td>test</td>\n",
              "      <td>0.992009</td>\n",
              "    </tr>\n",
              "    <tr>\n",
              "      <th>2</th>\n",
              "      <td>1.0</td>\n",
              "      <td>1.0</td>\n",
              "      <td>test</td>\n",
              "      <td>0.007722</td>\n",
              "    </tr>\n",
              "    <tr>\n",
              "      <th>3</th>\n",
              "      <td>1.0</td>\n",
              "      <td>1.0</td>\n",
              "      <td>test</td>\n",
              "      <td>0.992278</td>\n",
              "    </tr>\n",
              "    <tr>\n",
              "      <th>4</th>\n",
              "      <td>1.0</td>\n",
              "      <td>1.0</td>\n",
              "      <td>test</td>\n",
              "      <td>0.008015</td>\n",
              "    </tr>\n",
              "  </tbody>\n",
              "</table>\n",
              "</div>"
            ],
            "text/plain": [
              "   actual_temp  pred_temp  Type  pred_temp_prob\n",
              "0          1.0        1.0  test        0.007991\n",
              "1          1.0        1.0  test        0.992009\n",
              "2          1.0        1.0  test        0.007722\n",
              "3          1.0        1.0  test        0.992278\n",
              "4          1.0        1.0  test        0.008015"
            ]
          },
          "metadata": {
            "tags": []
          },
          "execution_count": 93
        }
      ]
    },
    {
      "cell_type": "code",
      "metadata": {
        "id": "GMTNN803CsLf",
        "colab_type": "code",
        "colab": {}
      },
      "source": [
        "#saving seperate csv file for training and test \n",
        "allResults_temp2.to_csv ('/content/drive/My Drive/Deep Learning Spring 2020/Week 3 DL/Assignment 2/Cropped Image - Weather Project/Model Results/allResults_temp2.csv')"
      ],
      "execution_count": 0,
      "outputs": []
    },
    {
      "cell_type": "code",
      "metadata": {
        "id": "8NqVt83jDxk8",
        "colab_type": "code",
        "colab": {}
      },
      "source": [
        "allResults_temp1.to_csv ('/content/drive/My Drive/Deep Learning Spring 2020/Week 3 DL/Assignment 2/Cropped Image - Weather Project/Model Results/allResults_temp1.csv')"
      ],
      "execution_count": 0,
      "outputs": []
    },
    {
      "cell_type": "code",
      "metadata": {
        "id": "hVABCdFsmSXn",
        "colab_type": "code",
        "outputId": "70ac44f0-059a-45a2-9919-e96d2b7365c1",
        "colab": {
          "base_uri": "https://localhost:8080/",
          "height": 111
        }
      },
      "source": [
        "#Changing the cut off to 0.7\n",
        "prob1 = modelCL.predict_proba(x_test)[:,1]\n",
        "newpreds_test = [1 if i>0.7 else 0 for i in prob1]\n",
        "pd.DataFrame(confusion_matrix(y_test_2, newpreds_test))\n"
      ],
      "execution_count": 100,
      "outputs": [
        {
          "output_type": "execute_result",
          "data": {
            "text/html": [
              "<div>\n",
              "<style scoped>\n",
              "    .dataframe tbody tr th:only-of-type {\n",
              "        vertical-align: middle;\n",
              "    }\n",
              "\n",
              "    .dataframe tbody tr th {\n",
              "        vertical-align: top;\n",
              "    }\n",
              "\n",
              "    .dataframe thead th {\n",
              "        text-align: right;\n",
              "    }\n",
              "</style>\n",
              "<table border=\"1\" class=\"dataframe\">\n",
              "  <thead>\n",
              "    <tr style=\"text-align: right;\">\n",
              "      <th></th>\n",
              "      <th>0</th>\n",
              "      <th>1</th>\n",
              "    </tr>\n",
              "  </thead>\n",
              "  <tbody>\n",
              "    <tr>\n",
              "      <th>0</th>\n",
              "      <td>0</td>\n",
              "      <td>4</td>\n",
              "    </tr>\n",
              "    <tr>\n",
              "      <th>1</th>\n",
              "      <td>0</td>\n",
              "      <td>740</td>\n",
              "    </tr>\n",
              "  </tbody>\n",
              "</table>\n",
              "</div>"
            ],
            "text/plain": [
              "   0    1\n",
              "0  0    4\n",
              "1  0  740"
            ]
          },
          "metadata": {
            "tags": []
          },
          "execution_count": 100
        }
      ]
    },
    {
      "cell_type": "code",
      "metadata": {
        "id": "oaO1EY1Cx0mD",
        "colab_type": "code",
        "outputId": "567821f2-2e30-43c4-acb7-e26afd5d0c26",
        "colab": {
          "base_uri": "https://localhost:8080/",
          "height": 111
        }
      },
      "source": [
        "#Changing the cut off to 0.3\n",
        "prob2 = modelCL.predict_proba(x_test)[:,1]\n",
        "newpreds_test = [1 if i>0.3 else 0 for i in prob2]\n",
        "pd.DataFrame(confusion_matrix(y_test_2, newpreds_test))"
      ],
      "execution_count": 97,
      "outputs": [
        {
          "output_type": "execute_result",
          "data": {
            "text/html": [
              "<div>\n",
              "<style scoped>\n",
              "    .dataframe tbody tr th:only-of-type {\n",
              "        vertical-align: middle;\n",
              "    }\n",
              "\n",
              "    .dataframe tbody tr th {\n",
              "        vertical-align: top;\n",
              "    }\n",
              "\n",
              "    .dataframe thead th {\n",
              "        text-align: right;\n",
              "    }\n",
              "</style>\n",
              "<table border=\"1\" class=\"dataframe\">\n",
              "  <thead>\n",
              "    <tr style=\"text-align: right;\">\n",
              "      <th></th>\n",
              "      <th>0</th>\n",
              "      <th>1</th>\n",
              "    </tr>\n",
              "  </thead>\n",
              "  <tbody>\n",
              "    <tr>\n",
              "      <th>0</th>\n",
              "      <td>0</td>\n",
              "      <td>4</td>\n",
              "    </tr>\n",
              "    <tr>\n",
              "      <th>1</th>\n",
              "      <td>0</td>\n",
              "      <td>740</td>\n",
              "    </tr>\n",
              "  </tbody>\n",
              "</table>\n",
              "</div>"
            ],
            "text/plain": [
              "   0    1\n",
              "0  0    4\n",
              "1  0  740"
            ]
          },
          "metadata": {
            "tags": []
          },
          "execution_count": 97
        }
      ]
    },
    {
      "cell_type": "code",
      "metadata": {
        "id": "KzbRIdDwyf0k",
        "colab_type": "code",
        "outputId": "db36346b-3612-44ca-a110-e2892427c1bb",
        "colab": {
          "base_uri": "https://localhost:8080/",
          "height": 111
        }
      },
      "source": [
        "#Changing the cut off to 0.6\n",
        "prob3 = modelCL.predict_proba(x_test)[:,1]\n",
        "newpreds_test = [1 if i>0.6 else 0 for i in prob3]\n",
        "pd.DataFrame(confusion_matrix(y_test_2, newpreds_test))"
      ],
      "execution_count": 98,
      "outputs": [
        {
          "output_type": "execute_result",
          "data": {
            "text/html": [
              "<div>\n",
              "<style scoped>\n",
              "    .dataframe tbody tr th:only-of-type {\n",
              "        vertical-align: middle;\n",
              "    }\n",
              "\n",
              "    .dataframe tbody tr th {\n",
              "        vertical-align: top;\n",
              "    }\n",
              "\n",
              "    .dataframe thead th {\n",
              "        text-align: right;\n",
              "    }\n",
              "</style>\n",
              "<table border=\"1\" class=\"dataframe\">\n",
              "  <thead>\n",
              "    <tr style=\"text-align: right;\">\n",
              "      <th></th>\n",
              "      <th>0</th>\n",
              "      <th>1</th>\n",
              "    </tr>\n",
              "  </thead>\n",
              "  <tbody>\n",
              "    <tr>\n",
              "      <th>0</th>\n",
              "      <td>0</td>\n",
              "      <td>4</td>\n",
              "    </tr>\n",
              "    <tr>\n",
              "      <th>1</th>\n",
              "      <td>0</td>\n",
              "      <td>740</td>\n",
              "    </tr>\n",
              "  </tbody>\n",
              "</table>\n",
              "</div>"
            ],
            "text/plain": [
              "   0    1\n",
              "0  0    4\n",
              "1  0  740"
            ]
          },
          "metadata": {
            "tags": []
          },
          "execution_count": 98
        }
      ]
    },
    {
      "cell_type": "code",
      "metadata": {
        "id": "gNTa5JVEyy_s",
        "colab_type": "code",
        "outputId": "6dae1c08-bf0f-42ba-9c17-f053ad59730e",
        "colab": {
          "base_uri": "https://localhost:8080/",
          "height": 111
        }
      },
      "source": [
        "#Changing the cut off to 0.9\n",
        "prob4 = modelCL.predict_proba(x_test)[:,1]\n",
        "newpreds_test = [1 if i>0.9 else 0 for i in prob4]\n",
        "pd.DataFrame(confusion_matrix(y_test_2, newpreds_test))"
      ],
      "execution_count": 99,
      "outputs": [
        {
          "output_type": "execute_result",
          "data": {
            "text/html": [
              "<div>\n",
              "<style scoped>\n",
              "    .dataframe tbody tr th:only-of-type {\n",
              "        vertical-align: middle;\n",
              "    }\n",
              "\n",
              "    .dataframe tbody tr th {\n",
              "        vertical-align: top;\n",
              "    }\n",
              "\n",
              "    .dataframe thead th {\n",
              "        text-align: right;\n",
              "    }\n",
              "</style>\n",
              "<table border=\"1\" class=\"dataframe\">\n",
              "  <thead>\n",
              "    <tr style=\"text-align: right;\">\n",
              "      <th></th>\n",
              "      <th>0</th>\n",
              "      <th>1</th>\n",
              "    </tr>\n",
              "  </thead>\n",
              "  <tbody>\n",
              "    <tr>\n",
              "      <th>0</th>\n",
              "      <td>0</td>\n",
              "      <td>4</td>\n",
              "    </tr>\n",
              "    <tr>\n",
              "      <th>1</th>\n",
              "      <td>1</td>\n",
              "      <td>739</td>\n",
              "    </tr>\n",
              "  </tbody>\n",
              "</table>\n",
              "</div>"
            ],
            "text/plain": [
              "   0    1\n",
              "0  0    4\n",
              "1  1  739"
            ]
          },
          "metadata": {
            "tags": []
          },
          "execution_count": 99
        }
      ]
    }
  ]
}